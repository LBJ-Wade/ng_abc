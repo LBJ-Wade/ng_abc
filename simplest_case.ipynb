{
 "cells": [
  {
   "cell_type": "code",
   "execution_count": 1,
   "metadata": {
    "collapsed": true
   },
   "outputs": [],
   "source": [
    "import numpy as np, libstempo as LT, json, libstempo.toasim as LTT, libstempo.plot as LP\n",
    "import astroabc\n",
    "import matplotlib\n",
    "import matplotlib.pyplot as pl\n",
    "%matplotlib inline"
   ]
  },
  {
   "cell_type": "markdown",
   "metadata": {},
   "source": [
    "# 1. Define the data here"
   ]
  },
  {
   "cell_type": "markdown",
   "metadata": {
    "collapsed": false
   },
   "source": [
    "parpath = \"../NANOGrav-DWG/11yr_stochastic_analysis/nano11y_data/partim/B1855+09_NANOGrav_11yv0.gls.par\"\n",
    "timpath = \"../NANOGrav-DWG/11yr_stochastic_analysis/nano11y_data/partim/B1855+09_NANOGrav_11yv0.tim\"\n",
    "\n",
    "psr = LT.tempopulsar(parfile = parpath, timfile = timpath)\n",
    "\n",
    "data = psr.toas()"
   ]
  },
  {
   "cell_type": "code",
   "execution_count": 2,
   "metadata": {
    "collapsed": false
   },
   "outputs": [
    {
     "data": {
      "image/png": "[encoded data removed]",
      "text/plain": [
       "<matplotlib.figure.Figure at 0x7f9efb968d50>"
      ]
     },
     "metadata": {},
     "output_type": "display_data"
    }
   ],
   "source": [
    "parfile = '../NANOGrav-DWG/11yr_stochastic_analysis/nano11y_data/partim/B1855+09_NANOGrav_11yv0.gls.par'\n",
    "\n",
    "epochs = np.arange(53000,54800,30)+np.random.randn(60)  # observe every 30+-1 days\n",
    "\n",
    "psr = LTT.fakepulsar(parfile=parfile,\n",
    "                    obstimes=epochs,\n",
    "                    toaerr=0.1)\n",
    "\n",
    "LTT.add_efac(psr,efac=1.0,seed=1234)\n",
    "LP.plotres(psr)\n",
    "\n",
    "data = psr.toas()"
   ]
  },
  {
   "cell_type": "code",
   "execution_count": null,
   "metadata": {
    "collapsed": true
   },
   "outputs": [],
   "source": []
  },
  {
   "cell_type": "markdown",
   "metadata": {},
   "source": [
    "# 2. Define the simulation here"
   ]
  },
  {
   "cell_type": "markdown",
   "metadata": {
    "collapsed": true
   },
   "source": [
    "def simulation(params):\n",
    "    \n",
    "    #params should be: par_file, efac\n",
    "    psr_copy = psr\n",
    "    \n",
    "    LTT.make_ideal(psr_copy)\n",
    "    \n",
    "    #add white noise:\n",
    "    LTT.add_efac(psr_copy, efac = params[1])\n",
    "    LTT.add_equad(psr_copy, equad = params[2])\n",
    "    LTT.add_jitter(psr_copy, ecorr = params[3])\n",
    "    \n",
    "    #add red noise, to be varied later\n",
    "    LTT.add_rednoise(psr_copy, params[4], params[5])\n",
    "    \n",
    "    return psr_copy.toas()"
   ]
  },
  {
   "cell_type": "code",
   "execution_count": 3,
   "metadata": {
    "collapsed": true
   },
   "outputs": [],
   "source": [
    "def simulation(params):\n",
    "    \n",
    "    #params should be: par_file, epochs, efac\n",
    "    psr_copy = LTT.fakepulsar(parfile = parfile,\n",
    "                    obstimes=epochs,  # observe every 30+-1 days\n",
    "                    toaerr=0.1)\n",
    "    \n",
    "    #add white noise:\n",
    "    LTT.add_efac(psr_copy, efac = params[0])\n",
    "    #LTT.add_equad(psr_copy, equad = params[2])\n",
    "    #LTT.add_jitter(psr_copy, ecorr = params[3])\n",
    "    \n",
    "    #add red noise, to be varied later\n",
    "    #LTT.add_rednoise(psr_copy, params[4], params[5])\n",
    "    \n",
    "    return psr_copy.toas()"
   ]
  },
  {
   "cell_type": "code",
   "execution_count": 4,
   "metadata": {
    "collapsed": true
   },
   "outputs": [],
   "source": [
    "def dist_metric(d, x):\n",
    "    return np.sum(np.abs(d - x))"
   ]
  },
  {
   "cell_type": "code",
   "execution_count": 5,
   "metadata": {
    "collapsed": false
   },
   "outputs": [
    {
     "name": "stdout",
     "output_type": "stream",
     "text": [
      "7.240075206027540844e-11\n"
     ]
    }
   ],
   "source": [
    "sim_data = simulation([1.0])\n",
    "\n",
    "distance = dist_metric(data, sim_data)\n",
    "\n",
    "print distance"
   ]
  },
  {
   "cell_type": "code",
   "execution_count": 6,
   "metadata": {
    "collapsed": true
   },
   "outputs": [],
   "source": [
    "#Define the prior on efac\n",
    "priors = [('uniform', [0.0, 5.0])]"
   ]
  },
  {
   "cell_type": "code",
   "execution_count": 7,
   "metadata": {
    "collapsed": false
   },
   "outputs": [],
   "source": [
    "#Set the keywords for astroABC\n",
    "prop = {'dfunc': dist_metric, 'outfile': \"simplest_example.txt\", 'verbose': 1, 'adapt_t': True, \n",
    "        'variance_method': 4}"
   ]
  },
  {
   "cell_type": "code",
   "execution_count": 8,
   "metadata": {
    "collapsed": false
   },
   "outputs": [
    {
     "name": "stdout",
     "output_type": "stream",
     "text": [
      "\t \t\n",
      "\t ########################     astroABC     ########################\t\n",
      "\t \t\n",
      "\t Npart=20 \t numt=30 \t tol=[0.0000,0.0000] exp\n",
      "\t Priors= [('uniform', [0.0, 5.0])]\n"
     ]
    }
   ],
   "source": [
    "sampler = astroabc.ABC_class(1, 20, data, [1e-10, 1e-12], 30, priors, **prop)"
   ]
  },
  {
   "cell_type": "code",
   "execution_count": null,
   "metadata": {
    "collapsed": false
   },
   "outputs": [],
   "source": [
    "model_sim = simulation\n",
    "\n",
    "sampler.sample(model_sim)"
   ]
  },
  {
   "cell_type": "code",
   "execution_count": null,
   "metadata": {
    "collapsed": true
   },
   "outputs": [],
   "source": []
  },
  {
   "cell_type": "code",
   "execution_count": null,
   "metadata": {
    "collapsed": true
   },
   "outputs": [],
   "source": []
  },
  {
   "cell_type": "code",
   "execution_count": null,
   "metadata": {
    "collapsed": true
   },
   "outputs": [],
   "source": []
  },
  {
   "cell_type": "code",
   "execution_count": null,
   "metadata": {
    "collapsed": true
   },
   "outputs": [],
   "source": []
  }
 ],
 "metadata": {
  "kernelspec": {
   "display_name": "Python 2",
   "language": "python",
   "name": "python2"
  },
  "language_info": {
   "codemirror_mode": {
    "name": "ipython",
    "version": 2
   },
   "file_extension": ".py",
   "mimetype": "text/x-python",
   "name": "python",
   "nbconvert_exporter": "python",
   "pygments_lexer": "ipython2",
   "version": "2.7.12"
  }
 },
 "nbformat": 4,
 "nbformat_minor": 1
}
