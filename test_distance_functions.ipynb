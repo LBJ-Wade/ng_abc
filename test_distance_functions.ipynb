{
 "cells": [
  {
   "cell_type": "code",
   "execution_count": 1,
   "metadata": {
    "collapsed": true
   },
   "outputs": [],
   "source": [
    "import numpy as np, libstempo as LT, json, libstempo.toasim as LTT, libstempo.plot as LP\n",
    "import astroabc\n",
    "import matplotlib\n",
    "import matplotlib.pyplot as pl\n",
    "%matplotlib inline"
   ]
  },
  {
   "cell_type": "markdown",
   "metadata": {},
   "source": [
    "# Define data and simulation function"
   ]
  },
  {
   "cell_type": "code",
   "execution_count": 2,
   "metadata": {
    "collapsed": false
   },
   "outputs": [
    {
     "data": {
      "image/png": "[encoded data removed]",
      "text/plain": [
       "<matplotlib.figure.Figure at 0x7f786c0ebcd0>"
      ]
     },
     "metadata": {},
     "output_type": "display_data"
    }
   ],
   "source": [
    "parfile = '../NANOGrav-DWG/11yr_stochastic_analysis/nano11y_data/partim/B1855+09_NANOGrav_11yv0.gls.par'\n",
    "\n",
    "epochs = np.arange(53000,54800,30)+np.random.randn(60)  # observe every 30+-1 days\n",
    "\n",
    "psr = LTT.fakepulsar(parfile=parfile,\n",
    "                    obstimes=epochs,\n",
    "                    toaerr=0.1)\n",
    "\n",
    "LTT.add_efac(psr,efac=1.0,seed=1234)\n",
    "LP.plotres(psr)\n",
    "\n",
    "data = psr.toas()"
   ]
  },
  {
   "cell_type": "code",
   "execution_count": 3,
   "metadata": {
    "collapsed": true
   },
   "outputs": [],
   "source": [
    "def simulation(params):\n",
    "    \n",
    "    #params should be: par_file, epochs, efac\n",
    "    psr_copy = LTT.fakepulsar(parfile = parfile,\n",
    "                    obstimes=epochs,  # observe every 30+-1 days\n",
    "                    toaerr=0.1)\n",
    "    \n",
    "    #add white noise:\n",
    "    LTT.add_efac(psr_copy, efac = params[0])\n",
    "    #LTT.add_equad(psr_copy, equad = params[2])\n",
    "    #LTT.add_jitter(psr_copy, ecorr = params[3])\n",
    "    \n",
    "    #add red noise, to be varied later\n",
    "    #LTT.add_rednoise(psr_copy, params[4], params[5])\n",
    "    \n",
    "    return psr_copy.toas()"
   ]
  },
  {
   "cell_type": "markdown",
   "metadata": {},
   "source": [
    "# Define distance function and see how it varies"
   ]
  },
  {
   "cell_type": "code",
   "execution_count": 5,
   "metadata": {
    "collapsed": true
   },
   "outputs": [],
   "source": [
    "def dist_metric(d, x):\n",
    "    return np.sum(np.abs(d - x))"
   ]
  },
  {
   "cell_type": "code",
   "execution_count": 7,
   "metadata": {
    "collapsed": false
   },
   "outputs": [],
   "source": [
    "test_efacs = np.linspace(0.0, 5.0, 10)\n",
    "\n",
    "distances = np.full((len(test_efacs)), 0.0)\n",
    "\n",
    "for ii, val in enumerate(test_efacs):\n",
    "    \n",
    "    distances[ii] = dist_metric(data, simulation([val]))"
   ]
  },
  {
   "cell_type": "code",
   "execution_count": 8,
   "metadata": {
    "collapsed": false
   },
   "outputs": [
    {
     "data": {
      "image/png": "[encoded data removed]",
      "text/plain": [
       "<matplotlib.figure.Figure at 0x7f78661ea610>"
      ]
     },
     "metadata": {},
     "output_type": "display_data"
    }
   ],
   "source": [
    "pl.plot(test_efacs, distances)\n",
    "pl.show()"
   ]
  },
  {
   "cell_type": "code",
   "execution_count": null,
   "metadata": {
    "collapsed": true
   },
   "outputs": [],
   "source": []
  },
  {
   "cell_type": "code",
   "execution_count": null,
   "metadata": {
    "collapsed": true
   },
   "outputs": [],
   "source": []
  },
  {
   "cell_type": "code",
   "execution_count": null,
   "metadata": {
    "collapsed": true
   },
   "outputs": [],
   "source": []
  },
  {
   "cell_type": "code",
   "execution_count": null,
   "metadata": {
    "collapsed": true
   },
   "outputs": [],
   "source": []
  },
  {
   "cell_type": "code",
   "execution_count": null,
   "metadata": {
    "collapsed": true
   },
   "outputs": [],
   "source": []
  },
  {
   "cell_type": "code",
   "execution_count": null,
   "metadata": {
    "collapsed": true
   },
   "outputs": [],
   "source": []
  },
  {
   "cell_type": "code",
   "execution_count": null,
   "metadata": {
    "collapsed": true
   },
   "outputs": [],
   "source": []
  },
  {
   "cell_type": "code",
   "execution_count": null,
   "metadata": {
    "collapsed": true
   },
   "outputs": [],
   "source": []
  }
 ],
 "metadata": {
  "kernelspec": {
   "display_name": "Python 2",
   "language": "python",
   "name": "python2"
  },
  "language_info": {
   "codemirror_mode": {
    "name": "ipython",
    "version": 2
   },
   "file_extension": ".py",
   "mimetype": "text/x-python",
   "name": "python",
   "nbconvert_exporter": "python",
   "pygments_lexer": "ipython2",
   "version": "2.7.12"
  }
 },
 "nbformat": 4,
 "nbformat_minor": 1
}
